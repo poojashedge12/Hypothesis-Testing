{
  "nbformat": 4,
  "nbformat_minor": 0,
  "metadata": {
    "colab": {
      "provenance": [],
      "mount_file_id": "1n9WMTiLGe2wE-c4qG0VFAzPlx0AGaJrK",
      "authorship_tag": "ABX9TyMv2O0QTtI03o7qb5iL6MDH",
      "include_colab_link": true
    },
    "kernelspec": {
      "name": "python3",
      "display_name": "Python 3"
    },
    "language_info": {
      "name": "python"
    }
  },
  "cells": [
    {
      "cell_type": "markdown",
      "metadata": {
        "id": "view-in-github",
        "colab_type": "text"
      },
      "source": [
        "<a href=\"https://colab.research.google.com/github/poojashedge12/Hypothesis-Testing/blob/main/Hypothesis%2BTesting.ipynb\" target=\"_parent\"><img src=\"https://colab.research.google.com/assets/colab-badge.svg\" alt=\"Open In Colab\"/></a>"
      ]
    },
    {
      "cell_type": "markdown",
      "source": [
        "\n",
        "# Q1:\n",
        "\n",
        "A F&B manager wants to determine whether there is any significant difference\n",
        "in the diameter of the cutlet between two units. A randomly selected sample of\n",
        "cutlets was collected from both units and measured? Analyze the data and draw\n",
        "inferences at 5% significance level.Please state the assumptions and tests that you\n",
        " carried out to check validity of the assumptions.\n",
        ""
      ],
      "metadata": {
        "id": "NWbeeEetlkZ5"
      }
    },
    {
      "cell_type": "code",
      "source": [
        "# connecting the drive\n",
        "\n",
        "from google.colab import drive\n",
        "drive.mount('/content/data')"
      ],
      "metadata": {
        "colab": {
          "base_uri": "https://localhost:8080/"
        },
        "id": "ziKDqmu-e8Xr",
        "outputId": "909d1bc4-e58a-4704-d876-a12e590a6788"
      },
      "execution_count": null,
      "outputs": [
        {
          "output_type": "stream",
          "name": "stdout",
          "text": [
            "Mounted at /content/data\n"
          ]
        }
      ]
    },
    {
      "cell_type": "code",
      "source": [
        "cd /content/data/MyDrive/Data"
      ],
      "metadata": {
        "colab": {
          "base_uri": "https://localhost:8080/"
        },
        "id": "RubuIX07gxPs",
        "outputId": "e961cdc7-d2d6-4a09-bd11-390be8ef2aa3"
      },
      "execution_count": null,
      "outputs": [
        {
          "output_type": "stream",
          "name": "stdout",
          "text": [
            "/content/data/MyDrive/Data\n"
          ]
        }
      ]
    },
    {
      "cell_type": "code",
      "source": [
        "import pandas as pd\n",
        "import scipy.stats as stats"
      ],
      "metadata": {
        "id": "l_fXEj-zhZvf"
      },
      "execution_count": null,
      "outputs": []
    },
    {
      "cell_type": "code",
      "source": [
        "ls /content/data/MyDrive/Data\n"
      ],
      "metadata": {
        "colab": {
          "base_uri": "https://localhost:8080/"
        },
        "id": "b8Lc7P0mkyW5",
        "outputId": "dc191789-f5a3-41ff-f50d-2097eef106f7"
      },
      "execution_count": null,
      "outputs": [
        {
          "output_type": "stream",
          "name": "stdout",
          "text": [
            "\u001b[0m\u001b[01;34m'Assignment data'\u001b[0m/\n",
            " BEML.csv\n",
            " BuyerRatio.csv\n",
            " Cars.csv\n",
            "'Class practice linear regression 7-9-[updated].ipynb'\n",
            " Costomer+OrderForm.csv\n",
            " Cutlets.csv\n",
            " GLAXO.csv\n",
            "'iris.python(exclr).csv'\n",
            " knnex.ipynb\n",
            " LabTAT.csv\n",
            "'Multi Linear Regression-updated .ipynb'\n",
            "'normaldistributionmorningbatch .ipynb'\n",
            " wc-at.csv\n"
          ]
        }
      ]
    },
    {
      "cell_type": "code",
      "source": [
        "hypo =pd.read_csv('Cutlets.csv')\n",
        "unit_a = hypo['Unit A']\n",
        "unit_b = hypo['Unit B']\n",
        "\n",
        "#Testing Assumption:\n",
        "\n",
        "# Test for Normality (Shapiro-Wilk test)\n",
        "_, p_value_unit_a = stats.shapiro(unit_a)\n",
        "_, p_value_unit_b = stats.shapiro(unit_b)\n",
        "\n",
        "# Test for Equal Variances (Levene's test)\n",
        "_, p_value_equal_var = stats.levene(unit_a, unit_b)\n",
        "\n",
        "\n",
        "print(\"Normality Test (Unit 1): p-value =\", p_value_unit_a)\n",
        "print(\"Normality Test (Unit 2): p-value =\", p_value_unit_b)\n",
        "print(\"Equal Variances Test: p-value =\", p_value_equal_var)\n",
        "\n",
        "alpha = 0.05\n",
        "\n",
        "if p_value_unit_a > alpha and p_value_unit_b > alpha:\n",
        "  print(\"Both the samples are normally distributed\")\n",
        "else:\n",
        "  print(\"Both the samples are not normally distributed\",'\\n')\n",
        "\n",
        "if p_value_equal_var > alpha:\n",
        "  print(\"Both the samples have equal variance\")\n",
        "\n",
        "if p_value_unit_a > alpha and p_value_unit_b > alpha and p_value_equal_var > alpha:\n",
        "  print('\\n'\"Given samples are following all assumptions for t test.\"'\\n'\"You may procced\")\n",
        "\n"
      ],
      "metadata": {
        "colab": {
          "base_uri": "https://localhost:8080/"
        },
        "id": "A2R8SXtqzPCe",
        "outputId": "2a596113-2061-4f86-cc7e-1579e87c9862"
      },
      "execution_count": null,
      "outputs": [
        {
          "output_type": "stream",
          "name": "stdout",
          "text": [
            "Normality Test (Unit 1): p-value = 0.31998491287231445\n",
            "Normality Test (Unit 2): p-value = 0.5225146412849426\n",
            "Equal Variances Test: p-value = 0.4176162212502553\n",
            "Both the samples are normally distributed\n",
            "Both the samples have equal variance\n",
            "\n",
            "Given samples are following all assumptions for t test.\n",
            "You may procced\n"
          ]
        }
      ]
    },
    {
      "cell_type": "code",
      "source": [
        "# Hypothesis testing\n",
        "test_statistic, p_value = stats.ttest_ind(unit_a, unit_b)\n",
        "print(f\"Test statistics :{test_statistic}, p_value :{p_value}\",sep= '\\n')\n",
        "\n",
        "alpha = 0.05  # Significance level\n",
        "\n",
        "if p_value < alpha:\n",
        "    print(\"Reject the null hypothesis.\")\n",
        "    print(\"There is a significant difference between the diameter of Unit A and Unit B.\")\n",
        "else:\n",
        "    print(\"accept the null hypothesis.\")\n",
        "    print(\"There is no significant difference between the diameter of Unit A and Unit B.\")\n"
      ],
      "metadata": {
        "colab": {
          "base_uri": "https://localhost:8080/"
        },
        "id": "ta4Ul-YW0Wp-",
        "outputId": "496275b3-1bea-46f6-dfb3-b7603bccf8d3"
      },
      "execution_count": null,
      "outputs": [
        {
          "output_type": "stream",
          "name": "stdout",
          "text": [
            "accept the null hypothesis.\n",
            "There is no significant difference between the diameter of Unit A and Unit B.\n"
          ]
        }
      ]
    },
    {
      "cell_type": "markdown",
      "source": [
        "# Q2:\n",
        "A hospital wants to determine whether there is any difference in\n",
        "the average Turn Around Time (TAT) of reports of the laboratories on their preferred list.\n",
        "They collected a random sample and recorded TAT for reports of 4 laboratories.\n",
        "TAT is defined as sample collected to report dispatch.\n",
        "\n",
        "Analyze the data and determine whether there is any difference in average\n",
        "TAT among the different laboratories at 5% significance level."
      ],
      "metadata": {
        "id": "MBH4BFU6l4yC"
      }
    },
    {
      "cell_type": "code",
      "source": [
        "cd /content/data/MyDrive/Data"
      ],
      "metadata": {
        "colab": {
          "base_uri": "https://localhost:8080/"
        },
        "id": "N9t0hChi20f6",
        "outputId": "386b9ed9-4156-4a0c-9e30-993002b55ef5"
      },
      "execution_count": null,
      "outputs": [
        {
          "output_type": "stream",
          "name": "stdout",
          "text": [
            "[Errno 107] Transport endpoint is not connected: '/content/data/MyDrive/Data'\n",
            "/content/drive/MyDrive/Data\n"
          ]
        }
      ]
    },
    {
      "cell_type": "code",
      "source": [
        "hypo2 =pd.read_csv('LabTAT.csv')\n",
        "hypo2\n",
        "\n",
        "Lab1 = hypo2['Laboratory 1']\n",
        "Lab2 = hypo2['Laboratory 2']\n",
        "Lab3 = hypo2['Laboratory 3']\n",
        "Lab4 = hypo2['Laboratory 4']\n",
        "hypo2"
      ],
      "metadata": {
        "id": "hh1m7E7suAYk",
        "colab": {
          "base_uri": "https://localhost:8080/",
          "height": 423
        },
        "outputId": "84037daf-1b62-4d46-d2a0-f07c27b7dc43"
      },
      "execution_count": null,
      "outputs": [
        {
          "output_type": "execute_result",
          "data": {
            "text/plain": [
              "     Laboratory 1  Laboratory 2  Laboratory 3  Laboratory 4\n",
              "0          185.35        165.53        176.70        166.13\n",
              "1          170.49        185.91        198.45        160.79\n",
              "2          192.77        194.92        201.23        185.18\n",
              "3          177.33        183.00        199.61        176.42\n",
              "4          193.41        169.57        204.63        152.60\n",
              "..            ...           ...           ...           ...\n",
              "115        178.49        170.66        193.80        172.68\n",
              "116        176.08        183.98        215.25        177.64\n",
              "117        202.48        174.54        203.99        170.27\n",
              "118        182.40        197.18        194.52        150.87\n",
              "119        182.09        215.17        221.49        162.21\n",
              "\n",
              "[120 rows x 4 columns]"
            ],
            "text/html": [
              "\n",
              "  <div id=\"df-a8086161-610f-47c1-ae5a-bfb924064eba\">\n",
              "    <div class=\"colab-df-container\">\n",
              "      <div>\n",
              "<style scoped>\n",
              "    .dataframe tbody tr th:only-of-type {\n",
              "        vertical-align: middle;\n",
              "    }\n",
              "\n",
              "    .dataframe tbody tr th {\n",
              "        vertical-align: top;\n",
              "    }\n",
              "\n",
              "    .dataframe thead th {\n",
              "        text-align: right;\n",
              "    }\n",
              "</style>\n",
              "<table border=\"1\" class=\"dataframe\">\n",
              "  <thead>\n",
              "    <tr style=\"text-align: right;\">\n",
              "      <th></th>\n",
              "      <th>Laboratory 1</th>\n",
              "      <th>Laboratory 2</th>\n",
              "      <th>Laboratory 3</th>\n",
              "      <th>Laboratory 4</th>\n",
              "    </tr>\n",
              "  </thead>\n",
              "  <tbody>\n",
              "    <tr>\n",
              "      <th>0</th>\n",
              "      <td>185.35</td>\n",
              "      <td>165.53</td>\n",
              "      <td>176.70</td>\n",
              "      <td>166.13</td>\n",
              "    </tr>\n",
              "    <tr>\n",
              "      <th>1</th>\n",
              "      <td>170.49</td>\n",
              "      <td>185.91</td>\n",
              "      <td>198.45</td>\n",
              "      <td>160.79</td>\n",
              "    </tr>\n",
              "    <tr>\n",
              "      <th>2</th>\n",
              "      <td>192.77</td>\n",
              "      <td>194.92</td>\n",
              "      <td>201.23</td>\n",
              "      <td>185.18</td>\n",
              "    </tr>\n",
              "    <tr>\n",
              "      <th>3</th>\n",
              "      <td>177.33</td>\n",
              "      <td>183.00</td>\n",
              "      <td>199.61</td>\n",
              "      <td>176.42</td>\n",
              "    </tr>\n",
              "    <tr>\n",
              "      <th>4</th>\n",
              "      <td>193.41</td>\n",
              "      <td>169.57</td>\n",
              "      <td>204.63</td>\n",
              "      <td>152.60</td>\n",
              "    </tr>\n",
              "    <tr>\n",
              "      <th>...</th>\n",
              "      <td>...</td>\n",
              "      <td>...</td>\n",
              "      <td>...</td>\n",
              "      <td>...</td>\n",
              "    </tr>\n",
              "    <tr>\n",
              "      <th>115</th>\n",
              "      <td>178.49</td>\n",
              "      <td>170.66</td>\n",
              "      <td>193.80</td>\n",
              "      <td>172.68</td>\n",
              "    </tr>\n",
              "    <tr>\n",
              "      <th>116</th>\n",
              "      <td>176.08</td>\n",
              "      <td>183.98</td>\n",
              "      <td>215.25</td>\n",
              "      <td>177.64</td>\n",
              "    </tr>\n",
              "    <tr>\n",
              "      <th>117</th>\n",
              "      <td>202.48</td>\n",
              "      <td>174.54</td>\n",
              "      <td>203.99</td>\n",
              "      <td>170.27</td>\n",
              "    </tr>\n",
              "    <tr>\n",
              "      <th>118</th>\n",
              "      <td>182.40</td>\n",
              "      <td>197.18</td>\n",
              "      <td>194.52</td>\n",
              "      <td>150.87</td>\n",
              "    </tr>\n",
              "    <tr>\n",
              "      <th>119</th>\n",
              "      <td>182.09</td>\n",
              "      <td>215.17</td>\n",
              "      <td>221.49</td>\n",
              "      <td>162.21</td>\n",
              "    </tr>\n",
              "  </tbody>\n",
              "</table>\n",
              "<p>120 rows × 4 columns</p>\n",
              "</div>\n",
              "      <button class=\"colab-df-convert\" onclick=\"convertToInteractive('df-a8086161-610f-47c1-ae5a-bfb924064eba')\"\n",
              "              title=\"Convert this dataframe to an interactive table.\"\n",
              "              style=\"display:none;\">\n",
              "        \n",
              "  <svg xmlns=\"http://www.w3.org/2000/svg\" height=\"24px\"viewBox=\"0 0 24 24\"\n",
              "       width=\"24px\">\n",
              "    <path d=\"M0 0h24v24H0V0z\" fill=\"none\"/>\n",
              "    <path d=\"M18.56 5.44l.94 2.06.94-2.06 2.06-.94-2.06-.94-.94-2.06-.94 2.06-2.06.94zm-11 1L8.5 8.5l.94-2.06 2.06-.94-2.06-.94L8.5 2.5l-.94 2.06-2.06.94zm10 10l.94 2.06.94-2.06 2.06-.94-2.06-.94-.94-2.06-.94 2.06-2.06.94z\"/><path d=\"M17.41 7.96l-1.37-1.37c-.4-.4-.92-.59-1.43-.59-.52 0-1.04.2-1.43.59L10.3 9.45l-7.72 7.72c-.78.78-.78 2.05 0 2.83L4 21.41c.39.39.9.59 1.41.59.51 0 1.02-.2 1.41-.59l7.78-7.78 2.81-2.81c.8-.78.8-2.07 0-2.86zM5.41 20L4 18.59l7.72-7.72 1.47 1.35L5.41 20z\"/>\n",
              "  </svg>\n",
              "      </button>\n",
              "      \n",
              "  <style>\n",
              "    .colab-df-container {\n",
              "      display:flex;\n",
              "      flex-wrap:wrap;\n",
              "      gap: 12px;\n",
              "    }\n",
              "\n",
              "    .colab-df-convert {\n",
              "      background-color: #E8F0FE;\n",
              "      border: none;\n",
              "      border-radius: 50%;\n",
              "      cursor: pointer;\n",
              "      display: none;\n",
              "      fill: #1967D2;\n",
              "      height: 32px;\n",
              "      padding: 0 0 0 0;\n",
              "      width: 32px;\n",
              "    }\n",
              "\n",
              "    .colab-df-convert:hover {\n",
              "      background-color: #E2EBFA;\n",
              "      box-shadow: 0px 1px 2px rgba(60, 64, 67, 0.3), 0px 1px 3px 1px rgba(60, 64, 67, 0.15);\n",
              "      fill: #174EA6;\n",
              "    }\n",
              "\n",
              "    [theme=dark] .colab-df-convert {\n",
              "      background-color: #3B4455;\n",
              "      fill: #D2E3FC;\n",
              "    }\n",
              "\n",
              "    [theme=dark] .colab-df-convert:hover {\n",
              "      background-color: #434B5C;\n",
              "      box-shadow: 0px 1px 3px 1px rgba(0, 0, 0, 0.15);\n",
              "      filter: drop-shadow(0px 1px 2px rgba(0, 0, 0, 0.3));\n",
              "      fill: #FFFFFF;\n",
              "    }\n",
              "  </style>\n",
              "\n",
              "      <script>\n",
              "        const buttonEl =\n",
              "          document.querySelector('#df-a8086161-610f-47c1-ae5a-bfb924064eba button.colab-df-convert');\n",
              "        buttonEl.style.display =\n",
              "          google.colab.kernel.accessAllowed ? 'block' : 'none';\n",
              "\n",
              "        async function convertToInteractive(key) {\n",
              "          const element = document.querySelector('#df-a8086161-610f-47c1-ae5a-bfb924064eba');\n",
              "          const dataTable =\n",
              "            await google.colab.kernel.invokeFunction('convertToInteractive',\n",
              "                                                     [key], {});\n",
              "          if (!dataTable) return;\n",
              "\n",
              "          const docLinkHtml = 'Like what you see? Visit the ' +\n",
              "            '<a target=\"_blank\" href=https://colab.research.google.com/notebooks/data_table.ipynb>data table notebook</a>'\n",
              "            + ' to learn more about interactive tables.';\n",
              "          element.innerHTML = '';\n",
              "          dataTable['output_type'] = 'display_data';\n",
              "          await google.colab.output.renderOutput(dataTable, element);\n",
              "          const docLink = document.createElement('div');\n",
              "          docLink.innerHTML = docLinkHtml;\n",
              "          element.appendChild(docLink);\n",
              "        }\n",
              "      </script>\n",
              "    </div>\n",
              "  </div>\n",
              "  "
            ]
          },
          "metadata": {},
          "execution_count": 36
        }
      ]
    },
    {
      "cell_type": "code",
      "source": [
        "#Testing Assumption:\n",
        "\n",
        "# Test for Normality (Shapiro-Wilk test)\n",
        "_, p_value_Lab1 = stats.shapiro(Lab1)\n",
        "_, p_value_Lab2 = stats.shapiro(Lab2)\n",
        "_, p_value_Lab3 = stats.shapiro(Lab3)\n",
        "_, p_value_Lab4 = stats.shapiro(Lab4)\n",
        "\n",
        "\n",
        "# Test for Equal Variances (Levene's test)\n",
        "_, p_value_equal_var = stats.levene(Lab1,Lab2,Lab3,Lab4)\n",
        "\n",
        "#Print Result:\n",
        "print(\"Normality Test (Lab1): p-value =\", p_value_Lab1)\n",
        "print(\"Normality Test (Lab2): p-value =\", p_value_Lab2)\n",
        "print(\"Normality Test (Lab3): p-value =\", p_value_Lab3)\n",
        "print(\"Normality Test (Lab4): p-value =\", p_value_Lab4)\n",
        "\n",
        "print(\"Equal Variances Test: p-value =\", p_value_equal_var)\n",
        "\n",
        "alpha = 0.05\n",
        "\n",
        "if p_value_Lab1 > alpha and p_value_Lab2 > alpha and p_value_Lab3 > alpha and p_value_Lab4 > alpha :\n",
        "  print(\"All 4 samples are normally distributed\")\n",
        "else:\n",
        "  print(\"samples are not normally distributed\",'\\n')\n",
        "\n",
        "if p_value_equal_var > alpha:\n",
        "  print(\"Samples have equal variances\")\n",
        "\n",
        "if p_value_Lab1 > alpha and p_value_Lab2 > alpha and p_value_Lab3 > alpha and p_value_Lab4 > alpha and p_value_equal_var > alpha:\n",
        "  print('\\n'\"Given samples are following all assumptions for Anova Test.\"'\\n'\"You may procced\")\n"
      ],
      "metadata": {
        "colab": {
          "base_uri": "https://localhost:8080/"
        },
        "id": "Jmccdm0E5g07",
        "outputId": "259ae632-7e21-412b-efd2-36a301335393"
      },
      "execution_count": null,
      "outputs": [
        {
          "output_type": "stream",
          "name": "stdout",
          "text": [
            "Normality Test (Lab1): p-value = 0.5507769584655762\n",
            "Normality Test (Lab2): p-value = 0.8637352585792542\n",
            "Normality Test (Lab3): p-value = 0.42045730352401733\n",
            "Normality Test (Lab4): p-value = 0.6619619131088257\n",
            "Equal Variances Test: p-value = 0.05161343808309816\n",
            "All 4 samples are normally distributed\n",
            "Samples have equal variances\n",
            "\n",
            "Given samples are following all assumptions for Anova Test.\n",
            "You may procced\n"
          ]
        }
      ]
    },
    {
      "cell_type": "code",
      "source": [
        "statistic, p_value = stats.f_oneway(Lab1,Lab2,Lab3,Lab4)\n",
        "\n",
        "print(\"One-way ANOVA test:\")\n",
        "print(\"F-statistic:\", statistic)\n",
        "print(\"p-value:\", p_value)\n",
        "print('\\n')\n",
        "\n",
        "if p_value < alpha:\n",
        "    print(\"As p_value < alpha(0.05).\\nReject the null hypothesis.\")\n",
        "    print(\"There is a significant difference between the TAT of 4 Laboratories.\")\n",
        "else:\n",
        "    print(\"As p_value > alpha(0.05).\\nAccept the null hypothesis.\")\n",
        "    print(\"There is no significant difference between  the TAT of 4 Laboratories.\")"
      ],
      "metadata": {
        "colab": {
          "base_uri": "https://localhost:8080/"
        },
        "id": "6HylRQIs8Smb",
        "outputId": "ff4eeab6-6849-46fc-a5a6-a7b18cadc2f9"
      },
      "execution_count": null,
      "outputs": [
        {
          "output_type": "stream",
          "name": "stdout",
          "text": [
            "One-way ANOVA test:\n",
            "F-statistic: 118.70421654401437\n",
            "p-value: 2.1156708949992414e-57\n",
            "\n",
            "\n",
            "As p_value < alpha(0.05).\n",
            "Reject the null hypothesis.\n",
            "There is a significant difference between the TAT of 4 Laboratories.\n"
          ]
        }
      ]
    },
    {
      "cell_type": "markdown",
      "source": [
        "# Q3.\n",
        "Sales of products in four different regions is tabulated for males and females.\n",
        "Find if male-female buyer rations are similar across regions."
      ],
      "metadata": {
        "id": "_WLyMjZqmIjS"
      }
    },
    {
      "cell_type": "code",
      "source": [
        "import scipy.stats as stats\n",
        "\n",
        "# Create the contingency table\n",
        "observed = [[50, 142, 131, 70],\n",
        "            [550, 351, 480, 350]]\n",
        "\n",
        "chistatistics,p_value,dof,expected_freq = stats.chi2_contingency(observed)\n",
        "\n",
        "\n",
        "print(\"Chi-square test of independence:\")\n",
        "print(\"Chi-square statistic:\",chistatistics)\n",
        "print(\"p-value:\", p_value,'\\n')\n",
        "\n",
        "\n",
        "if p_value < alpha:\n",
        "    print(\"As p_value < alpha(0.05).\\nReject the null hypothesis.\")\n",
        "    print(\"Not all Proportions are equal.\")\n",
        "else:\n",
        "    print(\"As p_value > alpha(0.05).\\nAccept the null hypothesis.\")\n",
        "    print(\"all Proportions are equal.\")"
      ],
      "metadata": {
        "colab": {
          "base_uri": "https://localhost:8080/"
        },
        "id": "a6CgWBk9a174",
        "outputId": "77a4e01a-6d7f-45c9-bc59-c784273902cb"
      },
      "execution_count": null,
      "outputs": [
        {
          "output_type": "stream",
          "name": "stdout",
          "text": [
            "Chi-square test of independence:\n",
            "Chi-square statistic: 80.27295426602495\n",
            "p-value: 2.682172557281901e-17 \n",
            "\n",
            "As p_value < alpha(0.05).\n",
            "Reject the null hypothesis.\n",
            "Not all Proportions are equal.\n"
          ]
        }
      ]
    },
    {
      "cell_type": "markdown",
      "source": [
        "# Q4.\n",
        "TeleCall uses 4 centers around the globe to process customer order\n",
        "forms. They audit a certain %  of the customer order forms.\n",
        "Any error in order form renders it defective and has to be\n",
        "reworked before processing.  The manager wants to check whether\n",
        "the defective %  varies by centre. Please analyze the data at 5%\n",
        "significance level and help the manager draw appropriate inferences"
      ],
      "metadata": {
        "id": "1PL-7E3vmTB6"
      }
    },
    {
      "cell_type": "code",
      "source": [
        "\n",
        "cd /content/drive/MyDrive/Data"
      ],
      "metadata": {
        "colab": {
          "base_uri": "https://localhost:8080/"
        },
        "id": "o-f-Hnm3DgHC",
        "outputId": "e4625eb5-ad51-48a1-9c31-4eb9cc316fdc"
      },
      "execution_count": null,
      "outputs": [
        {
          "output_type": "stream",
          "name": "stdout",
          "text": [
            "[Errno 107] Transport endpoint is not connected: '/content/drive/MyDrive/Data'\n",
            "/content/data/MyDrive/Data\n"
          ]
        }
      ]
    },
    {
      "cell_type": "code",
      "source": [
        "hypo4= pd.read_csv(\"Costomer+OrderForm.csv\")\n",
        "\n",
        "Phillippines=hypo4[\"Phillippines\"]\n",
        "Indonesia=hypo4[\"Indonesia\"]\n",
        "Malta=hypo4[\"Malta\"]\n",
        "India=hypo4[\"India\"]\n",
        "\n",
        "hypo4.head()\n"
      ],
      "metadata": {
        "colab": {
          "base_uri": "https://localhost:8080/",
          "height": 206
        },
        "id": "slE9Vw9pEnH7",
        "outputId": "24143e3b-3a5a-48ea-b13a-c5d25c805e7b"
      },
      "execution_count": null,
      "outputs": [
        {
          "output_type": "execute_result",
          "data": {
            "text/plain": [
              "  Phillippines   Indonesia       Malta       India\n",
              "0   Error Free  Error Free   Defective  Error Free\n",
              "1   Error Free  Error Free  Error Free   Defective\n",
              "2   Error Free   Defective   Defective  Error Free\n",
              "3   Error Free  Error Free  Error Free  Error Free\n",
              "4   Error Free  Error Free   Defective  Error Free"
            ],
            "text/html": [
              "\n",
              "  <div id=\"df-0b412625-5fca-4b6f-bd44-9d24c9ce8996\">\n",
              "    <div class=\"colab-df-container\">\n",
              "      <div>\n",
              "<style scoped>\n",
              "    .dataframe tbody tr th:only-of-type {\n",
              "        vertical-align: middle;\n",
              "    }\n",
              "\n",
              "    .dataframe tbody tr th {\n",
              "        vertical-align: top;\n",
              "    }\n",
              "\n",
              "    .dataframe thead th {\n",
              "        text-align: right;\n",
              "    }\n",
              "</style>\n",
              "<table border=\"1\" class=\"dataframe\">\n",
              "  <thead>\n",
              "    <tr style=\"text-align: right;\">\n",
              "      <th></th>\n",
              "      <th>Phillippines</th>\n",
              "      <th>Indonesia</th>\n",
              "      <th>Malta</th>\n",
              "      <th>India</th>\n",
              "    </tr>\n",
              "  </thead>\n",
              "  <tbody>\n",
              "    <tr>\n",
              "      <th>0</th>\n",
              "      <td>Error Free</td>\n",
              "      <td>Error Free</td>\n",
              "      <td>Defective</td>\n",
              "      <td>Error Free</td>\n",
              "    </tr>\n",
              "    <tr>\n",
              "      <th>1</th>\n",
              "      <td>Error Free</td>\n",
              "      <td>Error Free</td>\n",
              "      <td>Error Free</td>\n",
              "      <td>Defective</td>\n",
              "    </tr>\n",
              "    <tr>\n",
              "      <th>2</th>\n",
              "      <td>Error Free</td>\n",
              "      <td>Defective</td>\n",
              "      <td>Defective</td>\n",
              "      <td>Error Free</td>\n",
              "    </tr>\n",
              "    <tr>\n",
              "      <th>3</th>\n",
              "      <td>Error Free</td>\n",
              "      <td>Error Free</td>\n",
              "      <td>Error Free</td>\n",
              "      <td>Error Free</td>\n",
              "    </tr>\n",
              "    <tr>\n",
              "      <th>4</th>\n",
              "      <td>Error Free</td>\n",
              "      <td>Error Free</td>\n",
              "      <td>Defective</td>\n",
              "      <td>Error Free</td>\n",
              "    </tr>\n",
              "  </tbody>\n",
              "</table>\n",
              "</div>\n",
              "      <button class=\"colab-df-convert\" onclick=\"convertToInteractive('df-0b412625-5fca-4b6f-bd44-9d24c9ce8996')\"\n",
              "              title=\"Convert this dataframe to an interactive table.\"\n",
              "              style=\"display:none;\">\n",
              "        \n",
              "  <svg xmlns=\"http://www.w3.org/2000/svg\" height=\"24px\"viewBox=\"0 0 24 24\"\n",
              "       width=\"24px\">\n",
              "    <path d=\"M0 0h24v24H0V0z\" fill=\"none\"/>\n",
              "    <path d=\"M18.56 5.44l.94 2.06.94-2.06 2.06-.94-2.06-.94-.94-2.06-.94 2.06-2.06.94zm-11 1L8.5 8.5l.94-2.06 2.06-.94-2.06-.94L8.5 2.5l-.94 2.06-2.06.94zm10 10l.94 2.06.94-2.06 2.06-.94-2.06-.94-.94-2.06-.94 2.06-2.06.94z\"/><path d=\"M17.41 7.96l-1.37-1.37c-.4-.4-.92-.59-1.43-.59-.52 0-1.04.2-1.43.59L10.3 9.45l-7.72 7.72c-.78.78-.78 2.05 0 2.83L4 21.41c.39.39.9.59 1.41.59.51 0 1.02-.2 1.41-.59l7.78-7.78 2.81-2.81c.8-.78.8-2.07 0-2.86zM5.41 20L4 18.59l7.72-7.72 1.47 1.35L5.41 20z\"/>\n",
              "  </svg>\n",
              "      </button>\n",
              "      \n",
              "  <style>\n",
              "    .colab-df-container {\n",
              "      display:flex;\n",
              "      flex-wrap:wrap;\n",
              "      gap: 12px;\n",
              "    }\n",
              "\n",
              "    .colab-df-convert {\n",
              "      background-color: #E8F0FE;\n",
              "      border: none;\n",
              "      border-radius: 50%;\n",
              "      cursor: pointer;\n",
              "      display: none;\n",
              "      fill: #1967D2;\n",
              "      height: 32px;\n",
              "      padding: 0 0 0 0;\n",
              "      width: 32px;\n",
              "    }\n",
              "\n",
              "    .colab-df-convert:hover {\n",
              "      background-color: #E2EBFA;\n",
              "      box-shadow: 0px 1px 2px rgba(60, 64, 67, 0.3), 0px 1px 3px 1px rgba(60, 64, 67, 0.15);\n",
              "      fill: #174EA6;\n",
              "    }\n",
              "\n",
              "    [theme=dark] .colab-df-convert {\n",
              "      background-color: #3B4455;\n",
              "      fill: #D2E3FC;\n",
              "    }\n",
              "\n",
              "    [theme=dark] .colab-df-convert:hover {\n",
              "      background-color: #434B5C;\n",
              "      box-shadow: 0px 1px 3px 1px rgba(0, 0, 0, 0.15);\n",
              "      filter: drop-shadow(0px 1px 2px rgba(0, 0, 0, 0.3));\n",
              "      fill: #FFFFFF;\n",
              "    }\n",
              "  </style>\n",
              "\n",
              "      <script>\n",
              "        const buttonEl =\n",
              "          document.querySelector('#df-0b412625-5fca-4b6f-bd44-9d24c9ce8996 button.colab-df-convert');\n",
              "        buttonEl.style.display =\n",
              "          google.colab.kernel.accessAllowed ? 'block' : 'none';\n",
              "\n",
              "        async function convertToInteractive(key) {\n",
              "          const element = document.querySelector('#df-0b412625-5fca-4b6f-bd44-9d24c9ce8996');\n",
              "          const dataTable =\n",
              "            await google.colab.kernel.invokeFunction('convertToInteractive',\n",
              "                                                     [key], {});\n",
              "          if (!dataTable) return;\n",
              "\n",
              "          const docLinkHtml = 'Like what you see? Visit the ' +\n",
              "            '<a target=\"_blank\" href=https://colab.research.google.com/notebooks/data_table.ipynb>data table notebook</a>'\n",
              "            + ' to learn more about interactive tables.';\n",
              "          element.innerHTML = '';\n",
              "          dataTable['output_type'] = 'display_data';\n",
              "          await google.colab.output.renderOutput(dataTable, element);\n",
              "          const docLink = document.createElement('div');\n",
              "          docLink.innerHTML = docLinkHtml;\n",
              "          element.appendChild(docLink);\n",
              "        }\n",
              "      </script>\n",
              "    </div>\n",
              "  </div>\n",
              "  "
            ]
          },
          "metadata": {},
          "execution_count": 34
        }
      ]
    },
    {
      "cell_type": "code",
      "source": [
        "print(Phillippines.value_counts(),Indonesia.value_counts(),Malta.value_counts(),India.value_counts())\n"
      ],
      "metadata": {
        "colab": {
          "base_uri": "https://localhost:8080/"
        },
        "id": "QVT9-eY4Ey-E",
        "outputId": "1c1aa8de-2533-4166-f8e4-0ee0ac3add82"
      },
      "execution_count": null,
      "outputs": [
        {
          "output_type": "stream",
          "name": "stdout",
          "text": [
            "Error Free    271\n",
            "Defective      29\n",
            "Name: Phillippines, dtype: int64 Error Free    267\n",
            "Defective      33\n",
            "Name: Indonesia, dtype: int64 Error Free    269\n",
            "Defective      31\n",
            "Name: Malta, dtype: int64 Error Free    280\n",
            "Defective      20\n",
            "Name: India, dtype: int64\n"
          ]
        }
      ]
    },
    {
      "cell_type": "code",
      "source": [
        "Table=[[271,267,269,280],[29,33,31,20]]\n",
        "\n",
        "from scipy.stats import chi2_contingency\n",
        "from scipy.stats import chi2\n",
        "statistics,p_value,dof,expected=chi2_contingency(Table)\n",
        "\n",
        "print(\"Chi2 test\")\n",
        "print(\"statistic:\", statistics)\n",
        "print(\"p-value:\", p_value)\n",
        "print('\\n')\n",
        "\n",
        "if p_value < 0.05:\n",
        "    print(\"As p_value < alpha(0.05).\\nReject the null hypothesis.\")\n",
        "    print(\"The defective percentage is not the same across all four centers.\")\n",
        "else:\n",
        "    print(\"As p_value > alpha(0.05).\\nAccept the null hypothesis.\")\n",
        "    print(\"The defective percentage is the same across all four centers.\")"
      ],
      "metadata": {
        "colab": {
          "base_uri": "https://localhost:8080/"
        },
        "id": "sRgCClIFl3WM",
        "outputId": "e015fefb-d889-48ab-ded3-aa67e3d0afe5"
      },
      "execution_count": null,
      "outputs": [
        {
          "output_type": "stream",
          "name": "stdout",
          "text": [
            "Chi2 test\n",
            "statistic: 3.858960685820355\n",
            "p-value: 0.2771020991233135\n",
            "\n",
            "\n",
            "As p_value > alpha(0.05).\n",
            "Accept the null hypothesis.\n",
            "The defective percentage is the same across all four centers.\n"
          ]
        }
      ]
    }
  ]
}